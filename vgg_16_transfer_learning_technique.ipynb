{
  "metadata": {
    "kernelspec": {
      "name": "python3",
      "display_name": "Python 3",
      "language": "python"
    },
    "language_info": {
      "name": "python",
      "version": "3.11.13",
      "mimetype": "text/x-python",
      "codemirror_mode": {
        "name": "ipython",
        "version": 3
      },
      "pygments_lexer": "ipython3",
      "nbconvert_exporter": "python",
      "file_extension": ".py"
    },
    "colab": {
      "provenance": []
    },
    "kaggle": {
      "accelerator": "none",
      "dataSources": [
        {
          "sourceId": 5514079,
          "sourceType": "datasetVersion",
          "datasetId": 3180206
        }
      ],
      "dockerImageVersionId": 31154,
      "isInternetEnabled": true,
      "language": "python",
      "sourceType": "notebook",
      "isGpuEnabled": false
    }
  },
  "nbformat_minor": 0,
  "nbformat": 4,
  "cells": [
    {
      "cell_type": "markdown",
      "source": [
        "# Implementation of VGG-16 Pre-Trained model."
      ],
      "metadata": {
        "id": "EeBH0rYd-fHb",
        "editable": false
      }
    },
    {
      "cell_type": "markdown",
      "source": [
        "### Downloading dataset from kaggle"
      ],
      "metadata": {
        "id": "e4SxkFKDlHiu",
        "editable": false
      }
    },
    {
      "cell_type": "code",
      "source": [
        "import kagglehub\n",
        "\n",
        "# Download latest version\n",
        "path = kagglehub.dataset_download(\"shreyapmaher/fruits-dataset-images\")\n",
        "\n",
        "print(\"Path to dataset files:\", path)"
      ],
      "metadata": {
        "colab": {
          "base_uri": "https://localhost:8080/"
        },
        "id": "RthdF7cjeJVG",
        "outputId": "6ac83492-480c-4231-d96d-73324e36ec26",
        "trusted": true,
        "execution": {
          "iopub.status.busy": "2025-10-16T06:30:29.626679Z",
          "iopub.execute_input": "2025-10-16T06:30:29.626857Z",
          "iopub.status.idle": "2025-10-16T06:30:30.045401Z",
          "shell.execute_reply.started": "2025-10-16T06:30:29.626840Z",
          "shell.execute_reply": "2025-10-16T06:30:30.044574Z"
        },
        "editable": false
      },
      "outputs": [
        {
          "name": "stdout",
          "text": "Path to dataset files: /kaggle/input/fruits-dataset-images\n",
          "output_type": "stream"
        }
      ],
      "execution_count": null
    },
    {
      "cell_type": "markdown",
      "source": [
        "### Libraries"
      ],
      "metadata": {
        "id": "l1UElf7XlMs2",
        "editable": false
      }
    },
    {
      "cell_type": "code",
      "source": [
        "!pip install split_folders"
      ],
      "metadata": {
        "trusted": true,
        "execution": {
          "iopub.status.busy": "2025-10-16T06:30:53.199430Z",
          "iopub.execute_input": "2025-10-16T06:30:53.200125Z",
          "iopub.status.idle": "2025-10-16T06:30:57.297839Z",
          "shell.execute_reply.started": "2025-10-16T06:30:53.200097Z",
          "shell.execute_reply": "2025-10-16T06:30:57.297156Z"
        },
        "editable": false,
        "id": "DIUwcE9Vwvm7",
        "outputId": "dd3b4484-e5e2-419c-a950-d0c89dbda983"
      },
      "outputs": [
        {
          "name": "stdout",
          "text": "Collecting split_folders\n  Downloading split_folders-0.5.1-py3-none-any.whl.metadata (6.2 kB)\nDownloading split_folders-0.5.1-py3-none-any.whl (8.4 kB)\nInstalling collected packages: split_folders\nSuccessfully installed split_folders-0.5.1\n",
          "output_type": "stream"
        }
      ],
      "execution_count": null
    },
    {
      "cell_type": "code",
      "source": [
        "import tensorflow as tf\n",
        "from tensorflow.keras.preprocessing.image import ImageDataGenerator\n",
        "from tensorflow.keras.applications import VGG16\n",
        "from tensorflow.keras.models import Model\n",
        "from tensorflow.keras.layers import Dense, Flatten, Dropout\n",
        "from tensorflow.keras.optimizers import Adam\n",
        "import os\n",
        "import splitfolders\n"
      ],
      "metadata": {
        "id": "oaFW_4xrfBw_",
        "trusted": true,
        "execution": {
          "iopub.status.busy": "2025-10-16T06:30:58.676440Z",
          "iopub.execute_input": "2025-10-16T06:30:58.677058Z",
          "iopub.status.idle": "2025-10-16T06:31:10.974912Z",
          "shell.execute_reply.started": "2025-10-16T06:30:58.677035Z",
          "shell.execute_reply": "2025-10-16T06:31:10.974304Z"
        },
        "editable": false,
        "outputId": "3e5d9327-c1bb-41a7-f877-aec16853add1"
      },
      "outputs": [
        {
          "name": "stderr",
          "text": "2025-10-16 06:30:59.896665: E external/local_xla/xla/stream_executor/cuda/cuda_fft.cc:477] Unable to register cuFFT factory: Attempting to register factory for plugin cuFFT when one has already been registered\nWARNING: All log messages before absl::InitializeLog() is called are written to STDERR\nE0000 00:00:1760596260.081999      37 cuda_dnn.cc:8310] Unable to register cuDNN factory: Attempting to register factory for plugin cuDNN when one has already been registered\nE0000 00:00:1760596260.136038      37 cuda_blas.cc:1418] Unable to register cuBLAS factory: Attempting to register factory for plugin cuBLAS when one has already been registered\n",
          "output_type": "stream"
        }
      ],
      "execution_count": null
    },
    {
      "cell_type": "code",
      "source": [
        "# path = \"/root/.cache/kagglehub/datasets/shreyapmaher/fruits-dataset-images/versions/1/images\"\n",
        "path_in_kaggle = \"/kaggle/input/fruits-dataset-images/images\"\n",
        "# show total files and classes\n",
        "dataset = tf.keras.utils.image_dataset_from_directory(\n",
        "    # path,\n",
        "    path_in_kaggle,\n",
        "    image_size=(64, 64),\n",
        "    batch_size=32,\n",
        "    label_mode=\"categorical\"\n",
        ")"
      ],
      "metadata": {
        "colab": {
          "base_uri": "https://localhost:8080/"
        },
        "id": "-4SaHphCeJzj",
        "outputId": "d801fa00-45eb-4267-d996-9efa3dfd748e",
        "trusted": true,
        "execution": {
          "iopub.status.busy": "2025-10-16T06:31:10.976126Z",
          "iopub.execute_input": "2025-10-16T06:31:10.977124Z",
          "iopub.status.idle": "2025-10-16T06:31:13.217928Z",
          "shell.execute_reply.started": "2025-10-16T06:31:10.977092Z",
          "shell.execute_reply": "2025-10-16T06:31:13.217386Z"
        },
        "editable": false
      },
      "outputs": [
        {
          "name": "stdout",
          "text": "Found 360 files belonging to 9 classes.\n",
          "output_type": "stream"
        },
        {
          "name": "stderr",
          "text": "I0000 00:00:1760596271.743212      37 gpu_device.cc:2022] Created device /job:localhost/replica:0/task:0/device:GPU:0 with 15513 MB memory:  -> device: 0, name: Tesla P100-PCIE-16GB, pci bus id: 0000:00:04.0, compute capability: 6.0\n",
          "output_type": "stream"
        }
      ],
      "execution_count": null
    },
    {
      "cell_type": "code",
      "source": [
        "# input_folder = path\n",
        "input_folder = path_in_kaggle\n",
        "\n",
        "output_folder = '/content/fruits'  # where to save split data\n",
        "\n",
        "splitfolders.ratio(input_folder, output=output_folder, seed=42, ratio=(.8, .2))\n"
      ],
      "metadata": {
        "colab": {
          "base_uri": "https://localhost:8080/"
        },
        "id": "Nunf6_bIgVle",
        "outputId": "bed4d0f1-4221-4330-a68b-75d85d8f3c60",
        "trusted": true,
        "execution": {
          "iopub.status.busy": "2025-10-16T06:31:13.218660Z",
          "iopub.execute_input": "2025-10-16T06:31:13.218866Z",
          "iopub.status.idle": "2025-10-16T06:31:17.119337Z",
          "shell.execute_reply.started": "2025-10-16T06:31:13.218849Z",
          "shell.execute_reply": "2025-10-16T06:31:17.118546Z"
        },
        "editable": false
      },
      "outputs": [
        {
          "name": "stderr",
          "text": "Copying files: 360 files [00:03, 92.47 files/s] \n",
          "output_type": "stream"
        }
      ],
      "execution_count": null
    },
    {
      "cell_type": "code",
      "source": [
        "# To show train and test folder's data\n",
        "!ls /content/fruits/train\n",
        "!ls /content/fruits/val # val is used as test\n"
      ],
      "metadata": {
        "colab": {
          "base_uri": "https://localhost:8080/"
        },
        "id": "rgZFk-a1hYjO",
        "outputId": "5887b7a0-0fbb-4d92-ca6d-536a3537f40a",
        "trusted": true,
        "editable": false,
        "execution": {
          "iopub.status.busy": "2025-10-16T06:31:17.120769Z",
          "iopub.execute_input": "2025-10-16T06:31:17.121192Z",
          "iopub.status.idle": "2025-10-16T06:31:17.390751Z",
          "shell.execute_reply.started": "2025-10-16T06:31:17.121168Z",
          "shell.execute_reply": "2025-10-16T06:31:17.390017Z"
        }
      },
      "outputs": [
        {
          "name": "stdout",
          "text": "'apple fruit'\t'chickoo fruit'  'mango fruit'\n'banana fruit'\t'grapes fruit'\t 'orange fruit'\n'cherry fruit'\t'kiwi fruit'\t 'strawberry fruit'\n'apple fruit'\t'chickoo fruit'  'mango fruit'\n'banana fruit'\t'grapes fruit'\t 'orange fruit'\n'cherry fruit'\t'kiwi fruit'\t 'strawberry fruit'\n",
          "output_type": "stream"
        }
      ],
      "execution_count": null
    },
    {
      "cell_type": "markdown",
      "source": [
        "## Load Dataset"
      ],
      "metadata": {
        "id": "r-DY8KzSiMPm",
        "editable": false
      }
    },
    {
      "cell_type": "code",
      "source": [
        "train_dir = '/content/fruits/train'\n",
        "test_dir = '/content/fruits/val'\n",
        "\n",
        "# Data Augmentation for training\n",
        "from tensorflow.keras.preprocessing.image import ImageDataGenerator\n",
        "\n",
        "datagen = ImageDataGenerator(\n",
        "    rescale=1./255,\n",
        "    rotation_range=20,\n",
        "    width_shift_range=0.2,\n",
        "    height_shift_range=0.2,\n",
        "    shear_range=0.2,\n",
        "    zoom_range=0.2,\n",
        "    horizontal_flip=True,\n",
        "    fill_mode='nearest'\n",
        ")\n",
        "\n",
        "\n",
        "test_datagen = ImageDataGenerator(rescale=1./255)\n",
        "\n",
        "train_data = datagen.flow_from_directory(\n",
        "    train_dir,\n",
        "    target_size=(224, 224),\n",
        "    batch_size=32,\n",
        "    class_mode='categorical'\n",
        ")\n",
        "\n",
        "test_data = test_datagen.flow_from_directory(\n",
        "    test_dir,\n",
        "    target_size=(224, 224),\n",
        "    batch_size=32,\n",
        "    class_mode='categorical'\n",
        ")\n"
      ],
      "metadata": {
        "colab": {
          "base_uri": "https://localhost:8080/"
        },
        "id": "zxOkVkxViN52",
        "outputId": "30d35890-a1af-429a-8ffa-e1df77ebd058",
        "trusted": true,
        "execution": {
          "iopub.status.busy": "2025-10-16T06:31:17.391826Z",
          "iopub.execute_input": "2025-10-16T06:31:17.392061Z",
          "iopub.status.idle": "2025-10-16T06:31:17.415127Z",
          "shell.execute_reply.started": "2025-10-16T06:31:17.392031Z",
          "shell.execute_reply": "2025-10-16T06:31:17.414524Z"
        },
        "editable": false
      },
      "outputs": [
        {
          "name": "stdout",
          "text": "Found 287 images belonging to 9 classes.\nFound 72 images belonging to 9 classes.\n",
          "output_type": "stream"
        }
      ],
      "execution_count": null
    },
    {
      "cell_type": "markdown",
      "source": [
        "## Load Pre-trained Model (VGG16)"
      ],
      "metadata": {
        "id": "GTmIraOokEkn",
        "editable": false
      }
    },
    {
      "cell_type": "code",
      "source": [
        "from tensorflow.keras.applications import VGG16"
      ],
      "metadata": {
        "id": "jUnbwZT5-3NU",
        "trusted": true,
        "execution": {
          "iopub.status.busy": "2025-10-16T06:31:54.367852Z",
          "iopub.execute_input": "2025-10-16T06:31:54.368320Z",
          "iopub.status.idle": "2025-10-16T06:31:54.372005Z",
          "shell.execute_reply.started": "2025-10-16T06:31:54.368297Z",
          "shell.execute_reply": "2025-10-16T06:31:54.371185Z"
        },
        "editable": false
      },
      "outputs": [],
      "execution_count": null
    },
    {
      "cell_type": "code",
      "source": [
        "base_model = VGG16(weights='imagenet', include_top=False, input_shape=(224,224,3))\n",
        "\n",
        "# Freeze Base Layers\n",
        "for layer in base_model.layers:\n",
        "    layer.trainable = False\n"
      ],
      "metadata": {
        "colab": {
          "base_uri": "https://localhost:8080/"
        },
        "id": "56SDKJx0-p1F",
        "outputId": "c1ed7f03-4fbf-4e97-ca53-a0571cfe64d6",
        "trusted": true,
        "execution": {
          "iopub.status.busy": "2025-10-16T06:31:55.498952Z",
          "iopub.execute_input": "2025-10-16T06:31:55.499654Z",
          "iopub.status.idle": "2025-10-16T06:31:56.906584Z",
          "shell.execute_reply.started": "2025-10-16T06:31:55.499629Z",
          "shell.execute_reply": "2025-10-16T06:31:56.905979Z"
        },
        "editable": false
      },
      "outputs": [
        {
          "name": "stdout",
          "text": "Downloading data from https://storage.googleapis.com/tensorflow/keras-applications/vgg16/vgg16_weights_tf_dim_ordering_tf_kernels_notop.h5\n\u001b[1m58889256/58889256\u001b[0m \u001b[32m━━━━━━━━━━━━━━━━━━━━\u001b[0m\u001b[37m\u001b[0m \u001b[1m0s\u001b[0m 0us/step\n",
          "output_type": "stream"
        }
      ],
      "execution_count": null
    },
    {
      "cell_type": "markdown",
      "source": [
        "## Custom Layers"
      ],
      "metadata": {
        "id": "EKjCVpmkkQCH",
        "editable": false
      }
    },
    {
      "cell_type": "code",
      "source": [
        "x = Flatten()(base_model.output)\n",
        "x = Dense(256, activation='relu')(x)\n",
        "x = Dropout(0.5)(x)\n",
        "\n",
        "output = Dense(train_data.num_classes, activation='softmax')(x)\n",
        "\n",
        "\n",
        "model = Model(inputs=base_model.input, outputs=output)"
      ],
      "metadata": {
        "id": "12Mm7q2V_GSl",
        "trusted": true,
        "execution": {
          "iopub.status.busy": "2025-10-16T06:32:00.433408Z",
          "iopub.execute_input": "2025-10-16T06:32:00.434102Z",
          "iopub.status.idle": "2025-10-16T06:32:00.461703Z",
          "shell.execute_reply.started": "2025-10-16T06:32:00.434079Z",
          "shell.execute_reply": "2025-10-16T06:32:00.460948Z"
        },
        "editable": false
      },
      "outputs": [],
      "execution_count": null
    },
    {
      "cell_type": "markdown",
      "source": [
        "## Compile the Model"
      ],
      "metadata": {
        "id": "whYhj1uhk2LO",
        "editable": false
      }
    },
    {
      "cell_type": "code",
      "source": [
        "model.compile(optimizer=Adam(learning_rate=0.0001),\n",
        "              loss='categorical_crossentropy',\n",
        "              metrics=['accuracy'])\n"
      ],
      "metadata": {
        "id": "kDuq23EZk4gG",
        "trusted": true,
        "execution": {
          "iopub.status.busy": "2025-10-16T06:32:12.932679Z",
          "iopub.execute_input": "2025-10-16T06:32:12.933204Z",
          "iopub.status.idle": "2025-10-16T06:32:12.946903Z",
          "shell.execute_reply.started": "2025-10-16T06:32:12.933185Z",
          "shell.execute_reply": "2025-10-16T06:32:12.946164Z"
        },
        "editable": false
      },
      "outputs": [],
      "execution_count": null
    },
    {
      "cell_type": "markdown",
      "source": [
        "## Train the Model"
      ],
      "metadata": {
        "id": "dxU3AwIxk7--",
        "editable": false
      }
    },
    {
      "cell_type": "code",
      "source": [
        "history = model.fit(\n",
        "    train_data,\n",
        "    validation_data=test_data,\n",
        "    epochs=10\n",
        ")"
      ],
      "metadata": {
        "id": "CnDXNIdsk-bt",
        "trusted": true,
        "execution": {
          "iopub.status.busy": "2025-10-16T06:32:19.297671Z",
          "iopub.execute_input": "2025-10-16T06:32:19.297933Z",
          "iopub.status.idle": "2025-10-16T06:34:39.708054Z",
          "shell.execute_reply.started": "2025-10-16T06:32:19.297915Z",
          "shell.execute_reply": "2025-10-16T06:34:39.707441Z"
        },
        "editable": false,
        "outputId": "c5637019-c685-47f7-b85e-ff469b21f559"
      },
      "outputs": [
        {
          "name": "stderr",
          "text": "/usr/local/lib/python3.11/dist-packages/keras/src/trainers/data_adapters/py_dataset_adapter.py:121: UserWarning: Your `PyDataset` class should call `super().__init__(**kwargs)` in its constructor. `**kwargs` can include `workers`, `use_multiprocessing`, `max_queue_size`. Do not pass these arguments to `fit()`, as they will be ignored.\n  self._warn_if_super_not_called()\n",
          "output_type": "stream"
        },
        {
          "name": "stdout",
          "text": "Epoch 1/10\n",
          "output_type": "stream"
        },
        {
          "name": "stderr",
          "text": "WARNING: All log messages before absl::InitializeLog() is called are written to STDERR\nI0000 00:00:1760596345.204837     111 service.cc:148] XLA service 0x792b2c00dc40 initialized for platform CUDA (this does not guarantee that XLA will be used). Devices:\nI0000 00:00:1760596345.205383     111 service.cc:156]   StreamExecutor device (0): Tesla P100-PCIE-16GB, Compute Capability 6.0\nI0000 00:00:1760596345.555149     111 cuda_dnn.cc:529] Loaded cuDNN version 90300\n",
          "output_type": "stream"
        },
        {
          "name": "stdout",
          "text": "\u001b[1m2/9\u001b[0m \u001b[32m━━━━\u001b[0m\u001b[37m━━━━━━━━━━━━━━━━\u001b[0m \u001b[1m0s\u001b[0m 81ms/step - accuracy: 0.1953 - loss: 2.6720 ",
          "output_type": "stream"
        },
        {
          "name": "stderr",
          "text": "I0000 00:00:1760596353.987554     111 device_compiler.h:188] Compiled cluster using XLA!  This line is logged at most once for the lifetime of the process.\n",
          "output_type": "stream"
        },
        {
          "name": "stdout",
          "text": "\u001b[1m9/9\u001b[0m \u001b[32m━━━━━━━━━━━━━━━━━━━━\u001b[0m\u001b[37m\u001b[0m \u001b[1m31s\u001b[0m 2s/step - accuracy: 0.1523 - loss: 2.5485 - val_accuracy: 0.3056 - val_loss: 1.8420\nEpoch 2/10\n\u001b[1m9/9\u001b[0m \u001b[32m━━━━━━━━━━━━━━━━━━━━\u001b[0m\u001b[37m\u001b[0m \u001b[1m12s\u001b[0m 1s/step - accuracy: 0.2753 - loss: 1.9399 - val_accuracy: 0.5000 - val_loss: 1.5069\nEpoch 3/10\n\u001b[1m9/9\u001b[0m \u001b[32m━━━━━━━━━━━━━━━━━━━━\u001b[0m\u001b[37m\u001b[0m \u001b[1m12s\u001b[0m 1s/step - accuracy: 0.5705 - loss: 1.4486 - val_accuracy: 0.5833 - val_loss: 1.2810\nEpoch 4/10\n\u001b[1m9/9\u001b[0m \u001b[32m━━━━━━━━━━━━━━━━━━━━\u001b[0m\u001b[37m\u001b[0m \u001b[1m12s\u001b[0m 1s/step - accuracy: 0.6176 - loss: 1.1764 - val_accuracy: 0.6528 - val_loss: 1.1358\nEpoch 5/10\n\u001b[1m9/9\u001b[0m \u001b[32m━━━━━━━━━━━━━━━━━━━━\u001b[0m\u001b[37m\u001b[0m \u001b[1m12s\u001b[0m 1s/step - accuracy: 0.6190 - loss: 1.1178 - val_accuracy: 0.7083 - val_loss: 0.9900\nEpoch 6/10\n\u001b[1m9/9\u001b[0m \u001b[32m━━━━━━━━━━━━━━━━━━━━\u001b[0m\u001b[37m\u001b[0m \u001b[1m12s\u001b[0m 1s/step - accuracy: 0.6947 - loss: 0.9581 - val_accuracy: 0.6944 - val_loss: 0.9232\nEpoch 7/10\n\u001b[1m9/9\u001b[0m \u001b[32m━━━━━━━━━━━━━━━━━━━━\u001b[0m\u001b[37m\u001b[0m \u001b[1m12s\u001b[0m 1s/step - accuracy: 0.7256 - loss: 0.8719 - val_accuracy: 0.7361 - val_loss: 0.8718\nEpoch 8/10\n\u001b[1m9/9\u001b[0m \u001b[32m━━━━━━━━━━━━━━━━━━━━\u001b[0m\u001b[37m\u001b[0m \u001b[1m12s\u001b[0m 1s/step - accuracy: 0.7375 - loss: 0.8459 - val_accuracy: 0.6944 - val_loss: 0.8416\nEpoch 9/10\n\u001b[1m9/9\u001b[0m \u001b[32m━━━━━━━━━━━━━━━━━━━━\u001b[0m\u001b[37m\u001b[0m \u001b[1m12s\u001b[0m 1s/step - accuracy: 0.7873 - loss: 0.6854 - val_accuracy: 0.7500 - val_loss: 0.8221\nEpoch 10/10\n\u001b[1m9/9\u001b[0m \u001b[32m━━━━━━━━━━━━━━━━━━━━\u001b[0m\u001b[37m\u001b[0m \u001b[1m12s\u001b[0m 1s/step - accuracy: 0.7878 - loss: 0.7186 - val_accuracy: 0.7361 - val_loss: 0.7897\n",
          "output_type": "stream"
        }
      ],
      "execution_count": null
    },
    {
      "cell_type": "code",
      "source": [
        "import matplotlib.pyplot as plt\n",
        "\n",
        "# Plot training & validation accuracy\n",
        "plt.plot(history.history['accuracy'], label='Training Accuracy')\n",
        "plt.plot(history.history['val_accuracy'], label='Validation Accuracy')\n",
        "plt.title('Model Accuracy')\n",
        "plt.xlabel('Epochs')\n",
        "plt.ylabel('Accuracy')\n",
        "plt.legend()\n",
        "plt.show()\n"
      ],
      "metadata": {
        "trusted": true,
        "execution": {
          "iopub.status.busy": "2025-10-16T06:35:09.067015Z",
          "iopub.execute_input": "2025-10-16T06:35:09.067754Z",
          "iopub.status.idle": "2025-10-16T06:35:09.246524Z",
          "shell.execute_reply.started": "2025-10-16T06:35:09.067726Z",
          "shell.execute_reply": "2025-10-16T06:35:09.245816Z"
        },
        "editable": false,
        "id": "FixUohZiwvnC",
        "outputId": "f4d8667a-5352-42fc-b2ed-810e3038768c"
      },
      "outputs": [
        {
          "output_type": "display_data",
          "data": {
            "text/plain": "<Figure size 640x480 with 1 Axes>",
            "image/png": "[encoded data removed]"
          },
          "metadata": {}
        }
      ],
      "execution_count": null
    }
  ]
}