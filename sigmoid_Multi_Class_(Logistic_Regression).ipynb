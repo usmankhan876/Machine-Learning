{
  "cells": [
    {
      "cell_type": "markdown",
      "source": [
        "# **Multi-class Classification on Digits Dataset Logistic Regression using sigmoid Function ( One vs Rest )**"
      ],
      "metadata": {
        "id": "kuGdrRXhIs6G"
      }
    },
    {
      "cell_type": "code",
      "execution_count": 67,
      "metadata": {
        "id": "-rvTjKjlcz-C"
      },
      "outputs": [],
      "source": [
        "import numpy as np\n",
        "from sklearn.datasets import load_digits\n",
        "import math, copy"
      ]
    },
    {
      "cell_type": "code",
      "execution_count": 68,
      "metadata": {
        "id": "Ds6mtK8BdABs"
      },
      "outputs": [],
      "source": [
        "digits = load_digits()\n",
        "X = digits.data\n",
        "y = digits.target"
      ]
    },
    {
      "cell_type": "code",
      "source": [
        "print(y)"
      ],
      "metadata": {
        "colab": {
          "base_uri": "https://localhost:8080/"
        },
        "id": "roA-yKbj_l5I",
        "outputId": "872d4534-03f1-4148-fdb0-b49994e67320"
      },
      "execution_count": 69,
      "outputs": [
        {
          "output_type": "stream",
          "name": "stdout",
          "text": [
            "[0 1 2 ... 8 9 8]\n"
          ]
        }
      ]
    },
    {
      "cell_type": "code",
      "source": [
        "# Just labels 0,1,2 taken\n",
        "mask = (y == 0) | (y == 1) | (y == 2)\n",
        "X = X[mask]\n",
        "y = y[mask]\n"
      ],
      "metadata": {
        "id": "NC-mFJliqfUj"
      },
      "execution_count": 70,
      "outputs": []
    },
    {
      "cell_type": "code",
      "execution_count": 71,
      "metadata": {
        "colab": {
          "base_uri": "https://localhost:8080/"
        },
        "id": "BN8JdvjHdb16",
        "outputId": "10b9142c-f9b9-4fb7-8a68-2b09a2937689"
      },
      "outputs": [
        {
          "output_type": "execute_result",
          "data": {
            "text/plain": [
              "(537, 64)"
            ]
          },
          "metadata": {},
          "execution_count": 71
        }
      ],
      "source": [
        "X.shape\n"
      ]
    },
    {
      "cell_type": "code",
      "execution_count": 72,
      "metadata": {
        "colab": {
          "base_uri": "https://localhost:8080/"
        },
        "id": "DzHgczBGddNH",
        "outputId": "68fb0137-8399-4dba-8fff-4b4b22460d18"
      },
      "outputs": [
        {
          "output_type": "execute_result",
          "data": {
            "text/plain": [
              "(537,)"
            ]
          },
          "metadata": {},
          "execution_count": 72
        }
      ],
      "source": [
        "y.shape"
      ]
    },
    {
      "cell_type": "code",
      "source": [
        "from sklearn.model_selection import train_test_split\n",
        "X_train, X_test, y_train, y_test = train_test_split(X, y, test_size=0.2, random_state=42)"
      ],
      "metadata": {
        "id": "jIMwDrHMGT8-"
      },
      "execution_count": 119,
      "outputs": []
    },
    {
      "cell_type": "markdown",
      "source": [
        "## **OvR Labels**"
      ],
      "metadata": {
        "id": "CAbJoW3GuRyP"
      }
    },
    {
      "cell_type": "code",
      "source": [
        "# single value labeling for 0 excluding the 1, 2\n",
        "\n",
        "def make_binary_label(y, label):\n",
        "    binary_y = np.where(y == label, 1, 0)\n",
        "    return binary_y"
      ],
      "metadata": {
        "id": "OvuJhGl4uQ7q"
      },
      "execution_count": 123,
      "outputs": []
    },
    {
      "cell_type": "code",
      "source": [
        "# Assigning binary values\n",
        "y0_train = make_binary_label(y_train, 0).ravel()\n",
        "y1_train = make_binary_label(y_train, 1).ravel()\n",
        "y2_train = make_binary_label(y_train, 2).ravel()"
      ],
      "metadata": {
        "id": "MwGPnJqNvoXC"
      },
      "execution_count": 124,
      "outputs": []
    },
    {
      "cell_type": "markdown",
      "source": [
        "## **Sigmoid function**"
      ],
      "metadata": {
        "id": "VS9CYVKYHd2s"
      }
    },
    {
      "cell_type": "code",
      "source": [
        "def sigmoid(z):\n",
        "  g = 1/(1+np.exp(-z))\n",
        "  return g"
      ],
      "metadata": {
        "id": "YxiONeIxHrJP"
      },
      "execution_count": 125,
      "outputs": []
    },
    {
      "cell_type": "markdown",
      "source": [
        "## **Compute cost (sigmoid)**"
      ],
      "metadata": {
        "id": "oDb7wMAPJC4d"
      }
    },
    {
      "cell_type": "code",
      "source": [
        "def compute_cost_logistics(X, y, w, b, lambda_ = 1):\n",
        "\n",
        "    m,n  = X.shape\n",
        "    cost = 0.\n",
        "    for i in range(m):\n",
        "        z_i = np.dot(X[i], w) + b                                      #(n,)(n,)=scalar, see np.dot\n",
        "        f_wb_i = sigmoid(z_i)                                          #scalar\n",
        "        cost +=  -y[i]*np.log(f_wb_i + 1e-15) - (1-y[i])*np.log(1-f_wb_i + 1e-15)      #scalar\n",
        "\n",
        "    cost = cost/m                                                      #scalar\n",
        "\n",
        "    reg_cost = 0\n",
        "    for j in range(n):\n",
        "        reg_cost += (w[j]**2)                                          #scalar\n",
        "    reg_cost = (lambda_/(2*m)) * reg_cost                              #scalar\n",
        "\n",
        "    total_cost = cost + reg_cost                                       #scalar\n",
        "    return total_cost                                                  #scalar"
      ],
      "metadata": {
        "id": "9nm1ds7FJChM"
      },
      "execution_count": 79,
      "outputs": []
    },
    {
      "cell_type": "markdown",
      "source": [
        "## **Compute Gradients (sigmoid)**"
      ],
      "metadata": {
        "id": "0saAFgftJUIb"
      }
    },
    {
      "cell_type": "code",
      "source": [
        "def compute_gradient_logistics(X, y, w, b, lambda_ = 0.01):\n",
        "\n",
        "    dj_dw = np.zeros((n,))\n",
        "    dj_db = 0.0\n",
        "\n",
        "    for i in range(m):\n",
        "\n",
        "        f_wb_i = sigmoid(np.dot(X[i],w) + b)\n",
        "        err_i  = f_wb_i - y[i]\n",
        "        for j in range(n):\n",
        "\n",
        "            dj_dw[j] += err_i * X[i,j]\n",
        "        dj_db += err_i\n",
        "\n",
        "    dj_dw = dj_dw/m\n",
        "    dj_db = dj_db/m\n",
        "\n",
        "    for j in range(n):\n",
        "        dj_dw[j] += (lambda_/m) * w[j]\n",
        "\n",
        "    return dj_dw, dj_db\n"
      ],
      "metadata": {
        "id": "zCdO7nO7JTak"
      },
      "execution_count": 106,
      "outputs": []
    },
    {
      "cell_type": "markdown",
      "metadata": {
        "id": "POd1edZdmC-X"
      },
      "source": [
        "# **Compute Gradient Descent (sigmoid)**"
      ]
    },
    {
      "cell_type": "code",
      "execution_count": 107,
      "metadata": {
        "id": "-IhF_CTjmEo3"
      },
      "outputs": [],
      "source": [
        "def gradient_descent_logistic(x, y, w_in, b_in, alpha, num_iters):\n",
        "\n",
        "    cost_history = []\n",
        "    w = copy.deepcopy(w_in)\n",
        "    b = b_in\n",
        "\n",
        "    for i in range(num_iters):\n",
        "        # calculate gradient and update paramters\n",
        "        dj_dw, dj_db = compute_gradient_logistics(x,y,w,b, lambda_ = 0.01)\n",
        "\n",
        "        # Update Parameters using w, b, alpha and gradient\n",
        "        w = w - alpha * dj_dw\n",
        "        b = b - alpha * dj_db\n",
        "\n",
        "        # Save cost J at each iteration\n",
        "        cost_history.append(compute_cost_logistics(x, y, w, b) )\n",
        "\n",
        "        # Print cost every at intervals 10 times or as many iterations if < 10\n",
        "        if i% math.ceil(num_iters / 10) == 0:\n",
        "            print(f\"Iteration {i+10:4d}: Cost {cost_history[-1]}\")\n",
        "    print('Next Class Training')\n",
        "    return w, b, cost_history         #return final w,b and J history for graphing\n"
      ]
    },
    {
      "cell_type": "code",
      "source": [
        "# Initialize weights/bias\n",
        "w_init = abs(np.random.randn(64)*0.01)  # vector for binary logistic regression\n",
        "b_init = 0.0\n",
        "alpha = 0.01\n",
        "iters = 1000"
      ],
      "metadata": {
        "id": "QNx5KA-ROekn"
      },
      "execution_count": 108,
      "outputs": []
    },
    {
      "cell_type": "markdown",
      "source": [
        "## **Training Loop (sigmoid)**"
      ],
      "metadata": {
        "id": "zT5WctNevxwn"
      }
    },
    {
      "cell_type": "code",
      "source": [
        "# Train for class 0\n",
        "w0, b0, cost0 = gradient_descent_logistic(X_train, y0_train, w_init, b_init, alpha, iters)\n",
        "# Train for class 1\n",
        "w1, b1, cost1 = gradient_descent_logistic(X_train, y1_train, w_init, b_init, alpha, iters)\n",
        "# Train for class 2\n",
        "w2, b2, cost2 = gradient_descent_logistic(X_train, y2_train, w_init, b_init, alpha, iters)"
      ],
      "metadata": {
        "colab": {
          "base_uri": "https://localhost:8080/"
        },
        "id": "P6v6Tg1mv2t3",
        "outputId": "7a07573c-6fb8-4763-f7df-e2852da95611"
      },
      "execution_count": 126,
      "outputs": [
        {
          "output_type": "stream",
          "name": "stdout",
          "text": [
            "Iteration   10: Cost 3.884827548995729\n",
            "Iteration  110: Cost 0.007981096925158327\n",
            "Iteration  210: Cost 0.005074214316159145\n",
            "Iteration  310: Cost 0.003864067944724313\n",
            "Iteration  410: Cost 0.003183080617579391\n",
            "Iteration  510: Cost 0.00274232167188761\n",
            "Iteration  610: Cost 0.0024325887080398354\n",
            "Iteration  710: Cost 0.0022027331851458562\n",
            "Iteration  810: Cost 0.0020253850105663154\n",
            "Iteration  910: Cost 0.0018844915508751273\n",
            "Next Class Training\n",
            "Iteration   10: Cost 4.20239806298473\n",
            "Iteration  110: Cost 0.022032596697703938\n",
            "Iteration  210: Cost 0.014352231991582042\n",
            "Iteration  310: Cost 0.010944267687235392\n",
            "Iteration  410: Cost 0.00898351467307288\n",
            "Iteration  510: Cost 0.007700434759823193\n",
            "Iteration  610: Cost 0.0067925365473514646\n",
            "Iteration  710: Cost 0.006115319657161673\n",
            "Iteration  810: Cost 0.005590585099469072\n",
            "Iteration  910: Cost 0.005172142035321944\n",
            "Next Class Training\n",
            "Iteration   10: Cost 4.179334239134849\n",
            "Iteration  110: Cost 0.03191327035360032\n",
            "Iteration  210: Cost 0.02026059584637821\n",
            "Iteration  310: Cost 0.015177245257890368\n",
            "Iteration  410: Cost 0.012288132231174892\n",
            "Iteration  510: Cost 0.010418893376427228\n",
            "Iteration  610: Cost 0.00911003987245371\n",
            "Iteration  710: Cost 0.00814302324942525\n",
            "Iteration  810: Cost 0.007400179784146129\n",
            "Iteration  910: Cost 0.006812405312325271\n",
            "Next Class Training\n"
          ]
        }
      ]
    },
    {
      "cell_type": "markdown",
      "source": [
        "## **Predict OvR**"
      ],
      "metadata": {
        "id": "mzKtRdmUzQam"
      }
    },
    {
      "cell_type": "code",
      "source": [
        "def predict_ovr(x, w0, b0, w1, b1, w2, b2):\n",
        "\n",
        "    # Probabilities for each class\n",
        "    p0 = sigmoid(np.dot(x,w0)+b0) # it will just store a float number not array\n",
        "    p1 = sigmoid(np.dot(x,w1)+b1) # it will just store a float number not array\n",
        "    p2 = sigmoid(np.dot(x,w2)+b2) # it will just store a float number not array\n",
        "\n",
        "    # Converting Row-col(Transpose) and Stack them together (m x 3 matrix)\n",
        "    probs = np.stack((p0, p1, p2), axis=1)\n",
        "\n",
        "    # Return the class with the highest probability\n",
        "    return np.argmax(probs, axis=1) # check each sample(row)"
      ],
      "metadata": {
        "id": "uiJ4Bd0OzV5e"
      },
      "execution_count": 114,
      "outputs": []
    },
    {
      "cell_type": "code",
      "source": [
        "y_pred_test = predict_ovr(X_test, w0, b0, w1, b1, w2, b2)"
      ],
      "metadata": {
        "id": "YSzqCibqTl-G"
      },
      "execution_count": 132,
      "outputs": []
    },
    {
      "cell_type": "markdown",
      "metadata": {
        "id": "SKZL1nU-6CfY"
      },
      "source": [
        "### Accuracy"
      ]
    },
    {
      "cell_type": "code",
      "source": [
        "accuracy_test = np.sum(y_pred_test == y_test) / y_test.shape[0]\n",
        "print(f\"Test Accuracy: {accuracy_test*100:.2f}%\")\n",
        "\n",
        "# Test Accuracy: 100.00%\n",
        "\n",
        "\"\"\"\n",
        "It is 100% because the datset is very small and we also select some labels from\n",
        "them, so it becomes more small that's why it trains well and correct\n",
        " -> Our Traget is to how train some selected labels (e.g; 0,1,2) from the entire\n",
        "    dataset and apply sigmoid to make it binary classification\n",
        "\"\"\""
      ],
      "metadata": {
        "colab": {
          "base_uri": "https://localhost:8080/"
        },
        "id": "QSQ0LCx4UlL-",
        "outputId": "438d2f0d-f845-4e88-db3f-b20f5b3e9f10"
      },
      "execution_count": 133,
      "outputs": [
        {
          "output_type": "stream",
          "name": "stdout",
          "text": [
            "Test Accuracy: 100.00%\n"
          ]
        }
      ]
    },
    {
      "cell_type": "code",
      "source": [
        "# Show first 20 samples\n",
        "for i in range(20):\n",
        "    print(f\"Sample {i}: Actual = {y_test[i]}, Predicted = {y_pred_test[i]}\")"
      ],
      "metadata": {
        "colab": {
          "base_uri": "https://localhost:8080/"
        },
        "id": "K2gXzWQNVIFA",
        "outputId": "c91d3631-8d50-4d38-cb4c-5a54fa1fc0f8"
      },
      "execution_count": 137,
      "outputs": [
        {
          "output_type": "stream",
          "name": "stdout",
          "text": [
            "Sample 0: Actual = 1, Predicted = 1\n",
            "Sample 1: Actual = 1, Predicted = 1\n",
            "Sample 2: Actual = 2, Predicted = 2\n",
            "Sample 3: Actual = 2, Predicted = 2\n",
            "Sample 4: Actual = 1, Predicted = 1\n",
            "Sample 5: Actual = 0, Predicted = 0\n",
            "Sample 6: Actual = 2, Predicted = 2\n",
            "Sample 7: Actual = 1, Predicted = 1\n",
            "Sample 8: Actual = 1, Predicted = 1\n",
            "Sample 9: Actual = 0, Predicted = 0\n",
            "Sample 10: Actual = 0, Predicted = 0\n",
            "Sample 11: Actual = 2, Predicted = 2\n",
            "Sample 12: Actual = 1, Predicted = 1\n",
            "Sample 13: Actual = 2, Predicted = 2\n",
            "Sample 14: Actual = 0, Predicted = 0\n",
            "Sample 15: Actual = 0, Predicted = 0\n",
            "Sample 16: Actual = 2, Predicted = 2\n",
            "Sample 17: Actual = 2, Predicted = 2\n",
            "Sample 18: Actual = 0, Predicted = 0\n",
            "Sample 19: Actual = 2, Predicted = 2\n"
          ]
        }
      ]
    },
    {
      "cell_type": "markdown",
      "source": [
        "### **Visualize the Digit Images**"
      ],
      "metadata": {
        "id": "2XFHF2T2WMnM"
      }
    },
    {
      "cell_type": "code",
      "source": [
        "import matplotlib.pyplot as plt\n",
        "\n",
        "for i in range(6):  # show 5 test samples\n",
        "    # plt.figure(figsize=(2,2))\n",
        "    plt.subplot(3,2,i+1)\n",
        "    plt.imshow(X_test[i].reshape(8,8), cmap='gray')\n",
        "    plt.title(f\"Actual: {y_test[i]}, Predicted: {y_pred_test[i]}\")\n",
        "    plt.axis('off')\n",
        "plt.show()\n"
      ],
      "metadata": {
        "colab": {
          "base_uri": "https://localhost:8080/",
          "height": 428
        },
        "id": "6PCY66SVWL2l",
        "outputId": "0d6d8174-5d55-419d-a2b6-3bb7f15d8a43"
      },
      "execution_count": 139,
      "outputs": [
        {
          "output_type": "display_data",
          "data": {
            "text/plain": [
              "<Figure size 640x480 with 6 Axes>"
            ],
            "image/png": "[encoded data removed]"
          },
          "metadata": {}
        }
      ]
    },
    {
      "cell_type": "markdown",
      "metadata": {
        "id": "LO828S7h5Zqw"
      },
      "source": [
        "# -------------------- **Using Built-in Functions**  -------------------------"
      ]
    },
    {
      "cell_type": "markdown",
      "metadata": {
        "id": "rdpYlH005OMg"
      },
      "source": [
        "# **Multi-Class Classification using Built-in Model Logistic regression**"
      ]
    },
    {
      "cell_type": "code",
      "execution_count": 140,
      "metadata": {
        "id": "NMHhEJ8ldfIa"
      },
      "outputs": [],
      "source": [
        "from sklearn.model_selection import train_test_split\n",
        "X_train, X_test, y_train, y_test = train_test_split(X, y, test_size=0.2, random_state=42)"
      ]
    },
    {
      "cell_type": "code",
      "execution_count": 141,
      "metadata": {
        "colab": {
          "base_uri": "https://localhost:8080/",
          "height": 135
        },
        "id": "EkE_Aq3HdgzQ",
        "outputId": "97d36dab-dd54-456b-e0c2-a2e9ea50ac70"
      },
      "outputs": [
        {
          "output_type": "stream",
          "name": "stderr",
          "text": [
            "/usr/local/lib/python3.12/dist-packages/sklearn/linear_model/_logistic.py:1256: FutureWarning: 'multi_class' was deprecated in version 1.5 and will be removed in 1.7. Use OneVsRestClassifier(LogisticRegression(..)) instead. Leave it to its default value to avoid this warning.\n",
            "  warnings.warn(\n"
          ]
        },
        {
          "output_type": "execute_result",
          "data": {
            "text/plain": [
              "LogisticRegression(max_iter=1000, multi_class='ovr')"
            ],
            "text/html": [
              "<style>#sk-container-id-1 {\n",
              "  /* Definition of color scheme common for light and dark mode */\n",
              "  --sklearn-color-text: #000;\n",
              "  --sklearn-color-text-muted: #666;\n",
              "  --sklearn-color-line: gray;\n",
              "  /* Definition of color scheme for unfitted estimators */\n",
              "  --sklearn-color-unfitted-level-0: #fff5e6;\n",
              "  --sklearn-color-unfitted-level-1: #f6e4d2;\n",
              "  --sklearn-color-unfitted-level-2: #ffe0b3;\n",
              "  --sklearn-color-unfitted-level-3: chocolate;\n",
              "  /* Definition of color scheme for fitted estimators */\n",
              "  --sklearn-color-fitted-level-0: #f0f8ff;\n",
              "  --sklearn-color-fitted-level-1: #d4ebff;\n",
              "  --sklearn-color-fitted-level-2: #b3dbfd;\n",
              "  --sklearn-color-fitted-level-3: cornflowerblue;\n",
              "\n",
              "  /* Specific color for light theme */\n",
              "  --sklearn-color-text-on-default-background: var(--sg-text-color, var(--theme-code-foreground, var(--jp-content-font-color1, black)));\n",
              "  --sklearn-color-background: var(--sg-background-color, var(--theme-background, var(--jp-layout-color0, white)));\n",
              "  --sklearn-color-border-box: var(--sg-text-color, var(--theme-code-foreground, var(--jp-content-font-color1, black)));\n",
              "  --sklearn-color-icon: #696969;\n",
              "\n",
              "  @media (prefers-color-scheme: dark) {\n",
              "    /* Redefinition of color scheme for dark theme */\n",
              "    --sklearn-color-text-on-default-background: var(--sg-text-color, var(--theme-code-foreground, var(--jp-content-font-color1, white)));\n",
              "    --sklearn-color-background: var(--sg-background-color, var(--theme-background, var(--jp-layout-color0, #111)));\n",
              "    --sklearn-color-border-box: var(--sg-text-color, var(--theme-code-foreground, var(--jp-content-font-color1, white)));\n",
              "    --sklearn-color-icon: #878787;\n",
              "  }\n",
              "}\n",
              "\n",
              "#sk-container-id-1 {\n",
              "  color: var(--sklearn-color-text);\n",
              "}\n",
              "\n",
              "#sk-container-id-1 pre {\n",
              "  padding: 0;\n",
              "}\n",
              "\n",
              "#sk-container-id-1 input.sk-hidden--visually {\n",
              "  border: 0;\n",
              "  clip: rect(1px 1px 1px 1px);\n",
              "  clip: rect(1px, 1px, 1px, 1px);\n",
              "  height: 1px;\n",
              "  margin: -1px;\n",
              "  overflow: hidden;\n",
              "  padding: 0;\n",
              "  position: absolute;\n",
              "  width: 1px;\n",
              "}\n",
              "\n",
              "#sk-container-id-1 div.sk-dashed-wrapped {\n",
              "  border: 1px dashed var(--sklearn-color-line);\n",
              "  margin: 0 0.4em 0.5em 0.4em;\n",
              "  box-sizing: border-box;\n",
              "  padding-bottom: 0.4em;\n",
              "  background-color: var(--sklearn-color-background);\n",
              "}\n",
              "\n",
              "#sk-container-id-1 div.sk-container {\n",
              "  /* jupyter's `normalize.less` sets `[hidden] { display: none; }`\n",
              "     but bootstrap.min.css set `[hidden] { display: none !important; }`\n",
              "     so we also need the `!important` here to be able to override the\n",
              "     default hidden behavior on the sphinx rendered scikit-learn.org.\n",
              "     See: https://github.com/scikit-learn/scikit-learn/issues/21755 */\n",
              "  display: inline-block !important;\n",
              "  position: relative;\n",
              "}\n",
              "\n",
              "#sk-container-id-1 div.sk-text-repr-fallback {\n",
              "  display: none;\n",
              "}\n",
              "\n",
              "div.sk-parallel-item,\n",
              "div.sk-serial,\n",
              "div.sk-item {\n",
              "  /* draw centered vertical line to link estimators */\n",
              "  background-image: linear-gradient(var(--sklearn-color-text-on-default-background), var(--sklearn-color-text-on-default-background));\n",
              "  background-size: 2px 100%;\n",
              "  background-repeat: no-repeat;\n",
              "  background-position: center center;\n",
              "}\n",
              "\n",
              "/* Parallel-specific style estimator block */\n",
              "\n",
              "#sk-container-id-1 div.sk-parallel-item::after {\n",
              "  content: \"\";\n",
              "  width: 100%;\n",
              "  border-bottom: 2px solid var(--sklearn-color-text-on-default-background);\n",
              "  flex-grow: 1;\n",
              "}\n",
              "\n",
              "#sk-container-id-1 div.sk-parallel {\n",
              "  display: flex;\n",
              "  align-items: stretch;\n",
              "  justify-content: center;\n",
              "  background-color: var(--sklearn-color-background);\n",
              "  position: relative;\n",
              "}\n",
              "\n",
              "#sk-container-id-1 div.sk-parallel-item {\n",
              "  display: flex;\n",
              "  flex-direction: column;\n",
              "}\n",
              "\n",
              "#sk-container-id-1 div.sk-parallel-item:first-child::after {\n",
              "  align-self: flex-end;\n",
              "  width: 50%;\n",
              "}\n",
              "\n",
              "#sk-container-id-1 div.sk-parallel-item:last-child::after {\n",
              "  align-self: flex-start;\n",
              "  width: 50%;\n",
              "}\n",
              "\n",
              "#sk-container-id-1 div.sk-parallel-item:only-child::after {\n",
              "  width: 0;\n",
              "}\n",
              "\n",
              "/* Serial-specific style estimator block */\n",
              "\n",
              "#sk-container-id-1 div.sk-serial {\n",
              "  display: flex;\n",
              "  flex-direction: column;\n",
              "  align-items: center;\n",
              "  background-color: var(--sklearn-color-background);\n",
              "  padding-right: 1em;\n",
              "  padding-left: 1em;\n",
              "}\n",
              "\n",
              "\n",
              "/* Toggleable style: style used for estimator/Pipeline/ColumnTransformer box that is\n",
              "clickable and can be expanded/collapsed.\n",
              "- Pipeline and ColumnTransformer use this feature and define the default style\n",
              "- Estimators will overwrite some part of the style using the `sk-estimator` class\n",
              "*/\n",
              "\n",
              "/* Pipeline and ColumnTransformer style (default) */\n",
              "\n",
              "#sk-container-id-1 div.sk-toggleable {\n",
              "  /* Default theme specific background. It is overwritten whether we have a\n",
              "  specific estimator or a Pipeline/ColumnTransformer */\n",
              "  background-color: var(--sklearn-color-background);\n",
              "}\n",
              "\n",
              "/* Toggleable label */\n",
              "#sk-container-id-1 label.sk-toggleable__label {\n",
              "  cursor: pointer;\n",
              "  display: flex;\n",
              "  width: 100%;\n",
              "  margin-bottom: 0;\n",
              "  padding: 0.5em;\n",
              "  box-sizing: border-box;\n",
              "  text-align: center;\n",
              "  align-items: start;\n",
              "  justify-content: space-between;\n",
              "  gap: 0.5em;\n",
              "}\n",
              "\n",
              "#sk-container-id-1 label.sk-toggleable__label .caption {\n",
              "  font-size: 0.6rem;\n",
              "  font-weight: lighter;\n",
              "  color: var(--sklearn-color-text-muted);\n",
              "}\n",
              "\n",
              "#sk-container-id-1 label.sk-toggleable__label-arrow:before {\n",
              "  /* Arrow on the left of the label */\n",
              "  content: \"▸\";\n",
              "  float: left;\n",
              "  margin-right: 0.25em;\n",
              "  color: var(--sklearn-color-icon);\n",
              "}\n",
              "\n",
              "#sk-container-id-1 label.sk-toggleable__label-arrow:hover:before {\n",
              "  color: var(--sklearn-color-text);\n",
              "}\n",
              "\n",
              "/* Toggleable content - dropdown */\n",
              "\n",
              "#sk-container-id-1 div.sk-toggleable__content {\n",
              "  max-height: 0;\n",
              "  max-width: 0;\n",
              "  overflow: hidden;\n",
              "  text-align: left;\n",
              "  /* unfitted */\n",
              "  background-color: var(--sklearn-color-unfitted-level-0);\n",
              "}\n",
              "\n",
              "#sk-container-id-1 div.sk-toggleable__content.fitted {\n",
              "  /* fitted */\n",
              "  background-color: var(--sklearn-color-fitted-level-0);\n",
              "}\n",
              "\n",
              "#sk-container-id-1 div.sk-toggleable__content pre {\n",
              "  margin: 0.2em;\n",
              "  border-radius: 0.25em;\n",
              "  color: var(--sklearn-color-text);\n",
              "  /* unfitted */\n",
              "  background-color: var(--sklearn-color-unfitted-level-0);\n",
              "}\n",
              "\n",
              "#sk-container-id-1 div.sk-toggleable__content.fitted pre {\n",
              "  /* unfitted */\n",
              "  background-color: var(--sklearn-color-fitted-level-0);\n",
              "}\n",
              "\n",
              "#sk-container-id-1 input.sk-toggleable__control:checked~div.sk-toggleable__content {\n",
              "  /* Expand drop-down */\n",
              "  max-height: 200px;\n",
              "  max-width: 100%;\n",
              "  overflow: auto;\n",
              "}\n",
              "\n",
              "#sk-container-id-1 input.sk-toggleable__control:checked~label.sk-toggleable__label-arrow:before {\n",
              "  content: \"▾\";\n",
              "}\n",
              "\n",
              "/* Pipeline/ColumnTransformer-specific style */\n",
              "\n",
              "#sk-container-id-1 div.sk-label input.sk-toggleable__control:checked~label.sk-toggleable__label {\n",
              "  color: var(--sklearn-color-text);\n",
              "  background-color: var(--sklearn-color-unfitted-level-2);\n",
              "}\n",
              "\n",
              "#sk-container-id-1 div.sk-label.fitted input.sk-toggleable__control:checked~label.sk-toggleable__label {\n",
              "  background-color: var(--sklearn-color-fitted-level-2);\n",
              "}\n",
              "\n",
              "/* Estimator-specific style */\n",
              "\n",
              "/* Colorize estimator box */\n",
              "#sk-container-id-1 div.sk-estimator input.sk-toggleable__control:checked~label.sk-toggleable__label {\n",
              "  /* unfitted */\n",
              "  background-color: var(--sklearn-color-unfitted-level-2);\n",
              "}\n",
              "\n",
              "#sk-container-id-1 div.sk-estimator.fitted input.sk-toggleable__control:checked~label.sk-toggleable__label {\n",
              "  /* fitted */\n",
              "  background-color: var(--sklearn-color-fitted-level-2);\n",
              "}\n",
              "\n",
              "#sk-container-id-1 div.sk-label label.sk-toggleable__label,\n",
              "#sk-container-id-1 div.sk-label label {\n",
              "  /* The background is the default theme color */\n",
              "  color: var(--sklearn-color-text-on-default-background);\n",
              "}\n",
              "\n",
              "/* On hover, darken the color of the background */\n",
              "#sk-container-id-1 div.sk-label:hover label.sk-toggleable__label {\n",
              "  color: var(--sklearn-color-text);\n",
              "  background-color: var(--sklearn-color-unfitted-level-2);\n",
              "}\n",
              "\n",
              "/* Label box, darken color on hover, fitted */\n",
              "#sk-container-id-1 div.sk-label.fitted:hover label.sk-toggleable__label.fitted {\n",
              "  color: var(--sklearn-color-text);\n",
              "  background-color: var(--sklearn-color-fitted-level-2);\n",
              "}\n",
              "\n",
              "/* Estimator label */\n",
              "\n",
              "#sk-container-id-1 div.sk-label label {\n",
              "  font-family: monospace;\n",
              "  font-weight: bold;\n",
              "  display: inline-block;\n",
              "  line-height: 1.2em;\n",
              "}\n",
              "\n",
              "#sk-container-id-1 div.sk-label-container {\n",
              "  text-align: center;\n",
              "}\n",
              "\n",
              "/* Estimator-specific */\n",
              "#sk-container-id-1 div.sk-estimator {\n",
              "  font-family: monospace;\n",
              "  border: 1px dotted var(--sklearn-color-border-box);\n",
              "  border-radius: 0.25em;\n",
              "  box-sizing: border-box;\n",
              "  margin-bottom: 0.5em;\n",
              "  /* unfitted */\n",
              "  background-color: var(--sklearn-color-unfitted-level-0);\n",
              "}\n",
              "\n",
              "#sk-container-id-1 div.sk-estimator.fitted {\n",
              "  /* fitted */\n",
              "  background-color: var(--sklearn-color-fitted-level-0);\n",
              "}\n",
              "\n",
              "/* on hover */\n",
              "#sk-container-id-1 div.sk-estimator:hover {\n",
              "  /* unfitted */\n",
              "  background-color: var(--sklearn-color-unfitted-level-2);\n",
              "}\n",
              "\n",
              "#sk-container-id-1 div.sk-estimator.fitted:hover {\n",
              "  /* fitted */\n",
              "  background-color: var(--sklearn-color-fitted-level-2);\n",
              "}\n",
              "\n",
              "/* Specification for estimator info (e.g. \"i\" and \"?\") */\n",
              "\n",
              "/* Common style for \"i\" and \"?\" */\n",
              "\n",
              ".sk-estimator-doc-link,\n",
              "a:link.sk-estimator-doc-link,\n",
              "a:visited.sk-estimator-doc-link {\n",
              "  float: right;\n",
              "  font-size: smaller;\n",
              "  line-height: 1em;\n",
              "  font-family: monospace;\n",
              "  background-color: var(--sklearn-color-background);\n",
              "  border-radius: 1em;\n",
              "  height: 1em;\n",
              "  width: 1em;\n",
              "  text-decoration: none !important;\n",
              "  margin-left: 0.5em;\n",
              "  text-align: center;\n",
              "  /* unfitted */\n",
              "  border: var(--sklearn-color-unfitted-level-1) 1pt solid;\n",
              "  color: var(--sklearn-color-unfitted-level-1);\n",
              "}\n",
              "\n",
              ".sk-estimator-doc-link.fitted,\n",
              "a:link.sk-estimator-doc-link.fitted,\n",
              "a:visited.sk-estimator-doc-link.fitted {\n",
              "  /* fitted */\n",
              "  border: var(--sklearn-color-fitted-level-1) 1pt solid;\n",
              "  color: var(--sklearn-color-fitted-level-1);\n",
              "}\n",
              "\n",
              "/* On hover */\n",
              "div.sk-estimator:hover .sk-estimator-doc-link:hover,\n",
              ".sk-estimator-doc-link:hover,\n",
              "div.sk-label-container:hover .sk-estimator-doc-link:hover,\n",
              ".sk-estimator-doc-link:hover {\n",
              "  /* unfitted */\n",
              "  background-color: var(--sklearn-color-unfitted-level-3);\n",
              "  color: var(--sklearn-color-background);\n",
              "  text-decoration: none;\n",
              "}\n",
              "\n",
              "div.sk-estimator.fitted:hover .sk-estimator-doc-link.fitted:hover,\n",
              ".sk-estimator-doc-link.fitted:hover,\n",
              "div.sk-label-container:hover .sk-estimator-doc-link.fitted:hover,\n",
              ".sk-estimator-doc-link.fitted:hover {\n",
              "  /* fitted */\n",
              "  background-color: var(--sklearn-color-fitted-level-3);\n",
              "  color: var(--sklearn-color-background);\n",
              "  text-decoration: none;\n",
              "}\n",
              "\n",
              "/* Span, style for the box shown on hovering the info icon */\n",
              ".sk-estimator-doc-link span {\n",
              "  display: none;\n",
              "  z-index: 9999;\n",
              "  position: relative;\n",
              "  font-weight: normal;\n",
              "  right: .2ex;\n",
              "  padding: .5ex;\n",
              "  margin: .5ex;\n",
              "  width: min-content;\n",
              "  min-width: 20ex;\n",
              "  max-width: 50ex;\n",
              "  color: var(--sklearn-color-text);\n",
              "  box-shadow: 2pt 2pt 4pt #999;\n",
              "  /* unfitted */\n",
              "  background: var(--sklearn-color-unfitted-level-0);\n",
              "  border: .5pt solid var(--sklearn-color-unfitted-level-3);\n",
              "}\n",
              "\n",
              ".sk-estimator-doc-link.fitted span {\n",
              "  /* fitted */\n",
              "  background: var(--sklearn-color-fitted-level-0);\n",
              "  border: var(--sklearn-color-fitted-level-3);\n",
              "}\n",
              "\n",
              ".sk-estimator-doc-link:hover span {\n",
              "  display: block;\n",
              "}\n",
              "\n",
              "/* \"?\"-specific style due to the `<a>` HTML tag */\n",
              "\n",
              "#sk-container-id-1 a.estimator_doc_link {\n",
              "  float: right;\n",
              "  font-size: 1rem;\n",
              "  line-height: 1em;\n",
              "  font-family: monospace;\n",
              "  background-color: var(--sklearn-color-background);\n",
              "  border-radius: 1rem;\n",
              "  height: 1rem;\n",
              "  width: 1rem;\n",
              "  text-decoration: none;\n",
              "  /* unfitted */\n",
              "  color: var(--sklearn-color-unfitted-level-1);\n",
              "  border: var(--sklearn-color-unfitted-level-1) 1pt solid;\n",
              "}\n",
              "\n",
              "#sk-container-id-1 a.estimator_doc_link.fitted {\n",
              "  /* fitted */\n",
              "  border: var(--sklearn-color-fitted-level-1) 1pt solid;\n",
              "  color: var(--sklearn-color-fitted-level-1);\n",
              "}\n",
              "\n",
              "/* On hover */\n",
              "#sk-container-id-1 a.estimator_doc_link:hover {\n",
              "  /* unfitted */\n",
              "  background-color: var(--sklearn-color-unfitted-level-3);\n",
              "  color: var(--sklearn-color-background);\n",
              "  text-decoration: none;\n",
              "}\n",
              "\n",
              "#sk-container-id-1 a.estimator_doc_link.fitted:hover {\n",
              "  /* fitted */\n",
              "  background-color: var(--sklearn-color-fitted-level-3);\n",
              "}\n",
              "</style><div id=\"sk-container-id-1\" class=\"sk-top-container\"><div class=\"sk-text-repr-fallback\"><pre>LogisticRegression(max_iter=1000, multi_class=&#x27;ovr&#x27;)</pre><b>In a Jupyter environment, please rerun this cell to show the HTML representation or trust the notebook. <br />On GitHub, the HTML representation is unable to render, please try loading this page with nbviewer.org.</b></div><div class=\"sk-container\" hidden><div class=\"sk-item\"><div class=\"sk-estimator fitted sk-toggleable\"><input class=\"sk-toggleable__control sk-hidden--visually\" id=\"sk-estimator-id-1\" type=\"checkbox\" checked><label for=\"sk-estimator-id-1\" class=\"sk-toggleable__label fitted sk-toggleable__label-arrow\"><div><div>LogisticRegression</div></div><div><a class=\"sk-estimator-doc-link fitted\" rel=\"noreferrer\" target=\"_blank\" href=\"https://scikit-learn.org/1.6/modules/generated/sklearn.linear_model.LogisticRegression.html\">?<span>Documentation for LogisticRegression</span></a><span class=\"sk-estimator-doc-link fitted\">i<span>Fitted</span></span></div></label><div class=\"sk-toggleable__content fitted\"><pre>LogisticRegression(max_iter=1000, multi_class=&#x27;ovr&#x27;)</pre></div> </div></div></div></div>"
            ]
          },
          "metadata": {},
          "execution_count": 141
        }
      ],
      "source": [
        "from sklearn.linear_model import LogisticRegression\n",
        "model = LogisticRegression(multi_class='ovr', max_iter=1000)\n",
        "model.fit(X_train, y_train)"
      ]
    },
    {
      "cell_type": "code",
      "execution_count": 142,
      "metadata": {
        "id": "2R4xji3jeFRM"
      },
      "outputs": [],
      "source": [
        "y_pred = model.predict(X_test)"
      ]
    },
    {
      "cell_type": "code",
      "execution_count": 143,
      "metadata": {
        "colab": {
          "base_uri": "https://localhost:8080/"
        },
        "id": "BmA9OrE9ehST",
        "outputId": "8a2206b9-6b94-4749-e6f0-1ae619944f5e"
      },
      "outputs": [
        {
          "output_type": "execute_result",
          "data": {
            "text/plain": [
              "array([1, 1, 2, 2, 1, 0, 2, 1, 1, 0, 0, 2, 1, 2, 0, 0, 2, 2, 0, 2, 0, 1,\n",
              "       2, 0, 0, 2, 1, 2, 0, 1, 0, 2, 2, 2, 1, 2, 2, 0, 2, 1, 1, 0, 2, 0,\n",
              "       1, 1, 2, 1, 2, 1, 2, 1, 2, 0, 1, 2, 0, 2, 2, 1, 1, 1, 2, 1, 1, 1,\n",
              "       1, 1, 2, 1, 0, 2, 0, 1, 1, 0, 2, 1, 0, 1, 2, 0, 0, 1, 0, 1, 2, 0,\n",
              "       1, 2, 2, 2, 2, 0, 0, 0, 1, 2, 2, 0, 0, 0, 1, 2, 2, 0, 2, 0])"
            ]
          },
          "metadata": {},
          "execution_count": 143
        }
      ],
      "source": [
        "y_pred"
      ]
    },
    {
      "cell_type": "code",
      "execution_count": 144,
      "metadata": {
        "colab": {
          "base_uri": "https://localhost:8080/"
        },
        "id": "TyP-wBUHekyy",
        "outputId": "5b387cd1-8c48-40b4-9526-d8d98319a955"
      },
      "outputs": [
        {
          "output_type": "execute_result",
          "data": {
            "text/plain": [
              "array([[3.22330193e-09, 9.99394079e-01, 6.05918151e-04],\n",
              "       [1.90371155e-06, 9.99998096e-01, 6.34691641e-11],\n",
              "       [1.74192540e-08, 1.31133108e-05, 9.99986869e-01],\n",
              "       [5.40327098e-07, 5.50877709e-09, 9.99999454e-01],\n",
              "       [1.46299651e-02, 9.85331212e-01, 3.88230027e-05],\n",
              "       [9.99999836e-01, 4.29132716e-09, 1.59593159e-07],\n",
              "       [1.16607568e-08, 1.59908670e-05, 9.99983997e-01],\n",
              "       [9.21574420e-06, 9.99990176e-01, 6.08127513e-07],\n",
              "       [1.61308179e-06, 9.99986184e-01, 1.22025154e-05],\n",
              "       [9.99999595e-01, 4.11818713e-10, 4.04906550e-07],\n",
              "       [9.99901837e-01, 5.69455212e-08, 9.81063134e-05],\n",
              "       [5.51546575e-08, 4.47531094e-05, 9.99955192e-01],\n",
              "       [2.21080063e-09, 9.94840309e-01, 5.15968900e-03],\n",
              "       [6.41932519e-05, 2.69769903e-04, 9.99666037e-01],\n",
              "       [9.99499930e-01, 5.00052770e-04, 1.68752254e-08],\n",
              "       [9.99794925e-01, 1.12454644e-09, 2.05074234e-04],\n",
              "       [1.49946538e-04, 1.51598763e-08, 9.99850038e-01],\n",
              "       [2.20344100e-08, 5.23313712e-08, 9.99999926e-01],\n",
              "       [9.99988032e-01, 9.39158837e-09, 1.19581624e-05],\n",
              "       [5.67779289e-08, 1.03133269e-05, 9.99989630e-01],\n",
              "       [9.99971829e-01, 2.39684433e-05, 4.20259049e-06],\n",
              "       [6.35365752e-06, 9.99993642e-01, 4.26569730e-09],\n",
              "       [2.52415793e-05, 4.90410575e-02, 9.50933701e-01],\n",
              "       [9.99993763e-01, 3.28603961e-11, 6.23705464e-06],\n",
              "       [9.97955364e-01, 1.01182197e-08, 2.04462602e-03],\n",
              "       [1.39005880e-06, 9.81467450e-03, 9.90183935e-01],\n",
              "       [1.33670065e-05, 9.99954332e-01, 3.23008269e-05],\n",
              "       [2.35190336e-08, 8.18023783e-07, 9.99999158e-01],\n",
              "       [9.99996675e-01, 8.45759542e-07, 2.47941732e-06],\n",
              "       [7.86708839e-08, 9.97672152e-01, 2.32776936e-03],\n",
              "       [9.99610518e-01, 5.39462059e-12, 3.89482170e-04],\n",
              "       [1.91559994e-06, 5.82974112e-06, 9.99992255e-01],\n",
              "       [5.46724704e-09, 2.02450105e-07, 9.99999792e-01],\n",
              "       [3.85849851e-09, 1.82995677e-05, 9.99981697e-01],\n",
              "       [4.76328035e-05, 9.99952334e-01, 3.33418931e-08],\n",
              "       [8.29038333e-04, 3.04913918e-06, 9.99167913e-01],\n",
              "       [1.11741406e-08, 3.39335777e-04, 9.99660653e-01],\n",
              "       [9.99949705e-01, 2.12293439e-12, 5.02950230e-05],\n",
              "       [2.06057232e-08, 1.73102484e-05, 9.99982669e-01],\n",
              "       [4.35856226e-08, 9.99956251e-01, 4.37053545e-05],\n",
              "       [8.45191320e-08, 9.99999912e-01, 3.36589169e-09],\n",
              "       [9.99241054e-01, 7.36472983e-04, 2.24733461e-05],\n",
              "       [6.74399829e-07, 9.54031171e-05, 9.99903922e-01],\n",
              "       [9.99995037e-01, 8.53388121e-09, 4.95479132e-06],\n",
              "       [3.43735203e-08, 9.99993902e-01, 6.06402375e-06],\n",
              "       [1.30936427e-07, 9.99937895e-01, 6.19735702e-05],\n",
              "       [2.61690738e-08, 1.33591024e-03, 9.98664064e-01],\n",
              "       [3.57134559e-09, 8.89517766e-01, 1.10482231e-01],\n",
              "       [4.81909820e-06, 1.20509048e-04, 9.99874672e-01],\n",
              "       [3.01244102e-06, 9.99996987e-01, 7.79824567e-11],\n",
              "       [2.88724909e-06, 5.21494694e-07, 9.99996591e-01],\n",
              "       [2.39396255e-05, 9.99954979e-01, 2.10812952e-05],\n",
              "       [1.92252030e-08, 6.15518421e-07, 9.99999365e-01],\n",
              "       [9.99998351e-01, 1.20994305e-09, 1.64792248e-06],\n",
              "       [1.52475029e-04, 9.99847402e-01, 1.22760102e-07],\n",
              "       [3.11687131e-07, 1.27281064e-02, 9.87271582e-01],\n",
              "       [9.99973866e-01, 2.50549886e-06, 2.36281395e-05],\n",
              "       [1.94475450e-05, 5.59467266e-07, 9.99979993e-01],\n",
              "       [1.04493098e-08, 2.11782822e-02, 9.78821707e-01],\n",
              "       [2.07112923e-08, 9.99999968e-01, 1.11508335e-08],\n",
              "       [1.08149341e-07, 9.99998159e-01, 1.73287591e-06],\n",
              "       [1.18577576e-07, 9.99990610e-01, 9.27128234e-06],\n",
              "       [2.74909845e-08, 1.55025161e-01, 8.44974812e-01],\n",
              "       [9.37764768e-06, 9.99988327e-01, 2.29535052e-06],\n",
              "       [5.10490724e-08, 9.99999947e-01, 2.43537757e-09],\n",
              "       [2.00125981e-05, 9.99979956e-01, 3.09905237e-08],\n",
              "       [5.94371945e-04, 9.99405608e-01, 1.99024250e-08],\n",
              "       [3.39917061e-09, 9.99908179e-01, 9.18179247e-05],\n",
              "       [2.99724705e-08, 3.35274183e-08, 9.99999937e-01],\n",
              "       [5.66708199e-09, 9.99395951e-01, 6.04042841e-04],\n",
              "       [9.99711068e-01, 2.88927215e-04, 5.25873687e-09],\n",
              "       [1.95677337e-05, 1.38183900e-07, 9.99980294e-01],\n",
              "       [9.99885728e-01, 4.14556563e-12, 1.14272155e-04],\n",
              "       [2.50179412e-08, 9.98181719e-01, 1.81825597e-03],\n",
              "       [1.66517650e-06, 9.99582117e-01, 4.16218158e-04],\n",
              "       [9.99997910e-01, 2.04422618e-07, 1.88508738e-06],\n",
              "       [3.03117585e-07, 9.93216101e-04, 9.99006481e-01],\n",
              "       [2.10857843e-05, 9.98681972e-01, 1.29694194e-03],\n",
              "       [9.99898147e-01, 2.74078714e-10, 1.01852959e-04],\n",
              "       [1.67987240e-07, 9.99989906e-01, 9.92639258e-06],\n",
              "       [3.79968737e-08, 2.24554674e-07, 9.99999737e-01],\n",
              "       [9.99978850e-01, 2.11031148e-05, 4.68589821e-08],\n",
              "       [9.99986792e-01, 1.13664717e-06, 1.20709901e-05],\n",
              "       [4.71995386e-09, 9.99749773e-01, 2.50222152e-04],\n",
              "       [9.99994805e-01, 2.07694198e-08, 5.17411018e-06],\n",
              "       [1.21309733e-05, 9.99987869e-01, 2.03118696e-11],\n",
              "       [2.79401053e-07, 2.02412661e-07, 9.99999518e-01],\n",
              "       [9.99995378e-01, 6.93467218e-09, 4.61460948e-06],\n",
              "       [6.40897231e-07, 9.99936153e-01, 6.32062882e-05],\n",
              "       [2.91330529e-09, 1.12090061e-06, 9.99998876e-01],\n",
              "       [5.26896370e-05, 3.34584710e-04, 9.99612726e-01],\n",
              "       [2.28698488e-07, 1.43811891e-03, 9.98561652e-01],\n",
              "       [9.00548334e-08, 2.57967028e-05, 9.99974113e-01],\n",
              "       [9.99299282e-01, 6.98325776e-04, 2.39226726e-06],\n",
              "       [9.99986241e-01, 7.93585394e-08, 1.36792118e-05],\n",
              "       [9.99999644e-01, 3.37437485e-07, 1.81823108e-08],\n",
              "       [9.03157519e-06, 9.99990968e-01, 1.68323302e-10],\n",
              "       [2.72850233e-04, 1.98485918e-06, 9.99725165e-01],\n",
              "       [2.17728700e-09, 5.53269803e-04, 9.99446728e-01],\n",
              "       [9.99999101e-01, 1.19606335e-08, 8.87442206e-07],\n",
              "       [9.99977052e-01, 2.29474185e-05, 7.91667605e-10],\n",
              "       [9.94895227e-01, 7.78002950e-11, 5.10477341e-03],\n",
              "       [3.87114533e-05, 9.99961276e-01, 1.27907275e-08],\n",
              "       [1.67222012e-06, 2.46125990e-06, 9.99995867e-01],\n",
              "       [1.78212060e-06, 1.73714432e-07, 9.99998044e-01],\n",
              "       [9.95480841e-01, 4.51911921e-03, 3.93656093e-08],\n",
              "       [3.36720247e-08, 3.63976543e-04, 9.99635990e-01],\n",
              "       [9.99998742e-01, 1.43257698e-09, 1.25685327e-06]])"
            ]
          },
          "metadata": {},
          "execution_count": 144
        }
      ],
      "source": [
        "model.predict_proba(X_test)"
      ]
    },
    {
      "cell_type": "code",
      "execution_count": 146,
      "metadata": {
        "id": "EJgAQQb3eysF"
      },
      "outputs": [],
      "source": [
        "from sklearn.metrics import accuracy_score, classification_report\n",
        "classification_report = classification_report(y_test, y_pred)\n",
        "accuracy = accuracy_score(y_test, y_pred_test)"
      ]
    },
    {
      "cell_type": "code",
      "execution_count": 152,
      "metadata": {
        "colab": {
          "base_uri": "https://localhost:8080/"
        },
        "id": "gQbPyWMXetnH",
        "outputId": "0a772751-c870-4a94-8e19-5bf28f499daf"
      },
      "outputs": [
        {
          "output_type": "stream",
          "name": "stdout",
          "text": [
            "The final accuracy of the model is: 100.00%\n",
            "\n"
          ]
        }
      ],
      "source": [
        "print(f'The final accuracy of the model is: {accuracy*100:.2f}%')\n",
        "print()\n",
        "# print('Reports:', classification_report )"
      ]
    },
    {
      "cell_type": "code",
      "execution_count": 153,
      "metadata": {
        "colab": {
          "base_uri": "https://localhost:8080/",
          "height": 614
        },
        "id": "xvAajlJ0e_12",
        "outputId": "14484b7c-da38-4092-cf5b-cb2154d46354"
      },
      "outputs": [
        {
          "output_type": "display_data",
          "data": {
            "text/plain": [
              "<Figure size 1000x1000 with 10 Axes>"
            ],
            "image/png": "[encoded data removed]"
          },
          "metadata": {}
        }
      ],
      "source": [
        "import matplotlib.pyplot as plt\n",
        "plt.figure(figsize=(10, 10))\n",
        "for i in range(10):\n",
        "    plt.subplot(2, 5, i+1)\n",
        "    plt.imshow(X_test[i].reshape(8, 8), cmap='gray')"
      ]
    }
  ],
  "metadata": {
    "colab": {
      "provenance": [],
      "authorship_tag": "ABX9TyMrrC02jK0xIk87C4JCespQ"
    },
    "kernelspec": {
      "display_name": "Python 3",
      "name": "python3"
    },
    "language_info": {
      "name": "python"
    }
  },
  "nbformat": 4,
  "nbformat_minor": 0
}